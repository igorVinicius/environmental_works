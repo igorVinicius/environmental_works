{
 "cells": [
  {
   "cell_type": "markdown",
   "metadata": {},
   "source": [
    "# Introdução a análise e gerenciamento de dados em Python\n",
    "\n",
    "Vamos exemplificar aqui a análise de dados de uma série de poços extraídos do SIAGAS. Nosso objetivo final é __obter uma coleção de superfícies de poços para Chapecó, no oeste do estado__.\n",
    "\n",
    "Realizaremos as seguintes atividades nesse trajeto:\n",
    "1. Importar os dados de um arquivo xlsx;\n",
    "2. Analisar, filtrar e organizar os dados para formação de matrizes de pontos;\n",
    "3. Formar matrizes de pontos para cada tipo litológico, triangularizar e gerar uma superfície em 3D;"
   ]
  },
  {
   "cell_type": "markdown",
   "metadata": {},
   "source": [
    "## Primeiro vamos importar as bibliotecas\n",
    "\n",
    "- <span style='color: blue'>pandas</span>: Irá nos ajudar a gerenciar e analisar os dados\n",
    "- <span style='color: blue'>numpy</span>: Também nos ajudar a gerenciar e analisar os dados\n",
    "- <span style='color: blue'>seaborn</span>: Biblioteca que utiliza o Matplotlib e fornecerá os gráficos necessários para analisar os dados\n",
    "- <span style='color: blue'>geopandas</span>: Para trabalhar com dados vetorizados georeferenciados\n",
    "- <span style='color: blue'>pyplot de matplotlib</span>: Módulo de plotagem do matplotlib\n",
    "- <span style='color: blue'>pyvista</span>: Para adicionar os pontos ao nosso projeto\n",
    "- <span style='color: blue'>view de itkwidgets</span>: Para representarmos as camadas litológicas triangularizadas\n",
    "- <span style='color: blue'>Point de Shapely</span>: Para adicionar os pontos ao nosso projeto"
   ]
  },
  {
   "cell_type": "code",
   "execution_count": 2,
   "metadata": {},
   "outputs": [
    {
     "name": "stderr",
     "output_type": "stream",
     "text": [
      "/usr/local/lib/python3.8/dist-packages/geopandas/_compat.py:84: UserWarning: The Shapely GEOS version (3.8.0-CAPI-1.13.1 ) is incompatible with the GEOS version PyGEOS was compiled with (3.8.1-CAPI-1.13.3). Conversions between both will be slow.\n",
      "  warnings.warn(\n"
     ]
    }
   ],
   "source": [
    "import pandas as pd\n",
    "import numpy as np\n",
    "import seaborn as sn\n",
    "import geopandas as gp\n",
    "import matplotlib.pyplot as plt\n",
    "import pyvista as pv\n",
    "from itkwidgets import view\n",
    "from shapely.geometry import Point"
   ]
  },
  {
   "cell_type": "markdown",
   "metadata": {},
   "source": [
    "Vamos definir funções que nos ajudarão no processo de análise:"
   ]
  },
  {
   "cell_type": "code",
   "execution_count": 2,
   "metadata": {},
   "outputs": [],
   "source": [
    "def agruparLitologias( df ):\n",
    "    \"\"\"\n",
    "    Agrupa litologias para que tenham um 'de' 'ate' em uma só linha.\n",
    "    \n",
    "    Entrada:\n",
    "            df: DataFrame contendo as colunas 'nome', 'litologia', 'de', 'ate'\n",
    "    Retora:\n",
    "            DataFrame formatado.\n",
    "    \"\"\"\n",
    "    \n",
    "    assert( type(df) == pd.DataFrame)\n",
    "    \n",
    "    df_final = pd.DataFrame( columns = df.columns )\n",
    "    nomes = set(df['nome'])\n",
    "    \n",
    "    for nome in nomes:\n",
    "        tmp_df = df[ df['nome'] == nome ]\n",
    "        litologias = dict(tmp_df['litologia'].value_counts())\n",
    "        \n",
    "        for litologia, quantidade in litologias.items():\n",
    "            df_lit = tmp_df[ tmp_df['litologia'] == litologia ]\n",
    "            if quantidade > 1:\n",
    "                de_min = df_lit['de'].min()\n",
    "                ate_max = df_lit['ate'].max()\n",
    "                \n",
    "                df_lit = df_lit.iloc[0]\n",
    "                df_lit['de'] = de_min\n",
    "                df_lit['ate'] = ate_max\n",
    "                \n",
    "            df_final = df_final.append( df_lit )\n",
    "            \n",
    "    return df_final"
   ]
  },
  {
   "cell_type": "markdown",
   "metadata": {},
   "source": [
    "Agora importaremos os dados obtidos do SIAGAS em nossa planilha.\n",
    "\n",
    "Como primeiro passo importaremos nossa planilha e selecionaremos os dados para trabalharmos com ele. Faremos isso usando o método **read_excel** do pandas.\n",
    "\n",
    "Por padrão, a função **read_excel** lê apenas a primeira planilha de um arquivo. Nós iremos precisar de dados de duas planilhas, a que contém dados gerais e a que contém informações de litologia. Para acionar a leitura de todos as abas, atribuiremos ao atributo **sheet_name** o valor <code>None</code>. Logo em seguida, filtraremos as planilhas que desejamos utilizar."
   ]
  },
  {
   "cell_type": "code",
   "execution_count": 3,
   "metadata": {},
   "outputs": [],
   "source": [
    "#Chamaremos nossa variável de \"df\" de DataFrame.\n",
    "\n",
    "df = pd.read_excel('./training/dataset.xlsx', sheet_name=None)\n",
    "\n",
    "df_gerais = df['Dados_Gerais']\n",
    "df_litologia = df['Litologia']"
   ]
  },
  {
   "cell_type": "markdown",
   "metadata": {},
   "source": [
    "Vamos dar uma olhada em cada uma de nossas planilhas e checar como estão:\n",
    "\n",
    "### Dados Gerais:"
   ]
  },
  {
   "cell_type": "code",
   "execution_count": 4,
   "metadata": {},
   "outputs": [
    {
     "data": {
      "text/html": [
       "<div>\n",
       "<style scoped>\n",
       "    .dataframe tbody tr th:only-of-type {\n",
       "        vertical-align: middle;\n",
       "    }\n",
       "\n",
       "    .dataframe tbody tr th {\n",
       "        vertical-align: top;\n",
       "    }\n",
       "\n",
       "    .dataframe thead th {\n",
       "        text-align: right;\n",
       "    }\n",
       "</style>\n",
       "<table border=\"1\" class=\"dataframe\">\n",
       "  <thead>\n",
       "    <tr style=\"text-align: right;\">\n",
       "      <th></th>\n",
       "      <th>nome</th>\n",
       "      <th>cod_siagas</th>\n",
       "      <th>data_da_instalacao</th>\n",
       "      <th>proprietario</th>\n",
       "      <th>natureza_ponto</th>\n",
       "      <th>uso_da_agua</th>\n",
       "      <th>cota_do_terreno</th>\n",
       "      <th>localidade</th>\n",
       "      <th>utm_ns</th>\n",
       "      <th>utm_lo</th>\n",
       "      <th>latitude</th>\n",
       "      <th>longitude</th>\n",
       "      <th>bacia_hidrografica</th>\n",
       "      <th>subbacia_hidrografica</th>\n",
       "      <th>data_registro_situacao</th>\n",
       "      <th>situacao</th>\n",
       "      <th>resp_cadastro</th>\n",
       "      <th>fonte_dados</th>\n",
       "      <th>comentarios</th>\n",
       "    </tr>\n",
       "  </thead>\n",
       "  <tbody>\n",
       "    <tr>\n",
       "      <th>0</th>\n",
       "      <td>SN_nan_4300003347</td>\n",
       "      <td>4300003347</td>\n",
       "      <td>13/08/1984</td>\n",
       "      <td>NaN</td>\n",
       "      <td>Poço tubular</td>\n",
       "      <td>Abastecimento urbano</td>\n",
       "      <td>340.0</td>\n",
       "      <td>LINHA PASSO DA UVA</td>\n",
       "      <td>6983841</td>\n",
       "      <td>367615</td>\n",
       "      <td>271543</td>\n",
       "      <td>522014</td>\n",
       "      <td>Rio Uruguai</td>\n",
       "      <td>Rios Uruguai, Chapeco e outros</td>\n",
       "      <td>15/10/2005</td>\n",
       "      <td>Bombeando</td>\n",
       "      <td>WST</td>\n",
       "      <td>SIAGAS</td>\n",
       "      <td>NaN</td>\n",
       "    </tr>\n",
       "    <tr>\n",
       "      <th>1</th>\n",
       "      <td>SN_nan_4300003348</td>\n",
       "      <td>4300003348</td>\n",
       "      <td>28/05/1998</td>\n",
       "      <td>NaN</td>\n",
       "      <td>Poço tubular</td>\n",
       "      <td>Abastecimento doméstico</td>\n",
       "      <td>324.0</td>\n",
       "      <td>LINHA PASSO DO UVA</td>\n",
       "      <td>6983796</td>\n",
       "      <td>367796</td>\n",
       "      <td>271544</td>\n",
       "      <td>522008</td>\n",
       "      <td>Rio Uruguai</td>\n",
       "      <td>Rios Uruguai, Chapeco e outros</td>\n",
       "      <td>15/06/1998</td>\n",
       "      <td>Equipado</td>\n",
       "      <td>WST</td>\n",
       "      <td>SIAGAS</td>\n",
       "      <td>NaN</td>\n",
       "    </tr>\n",
       "    <tr>\n",
       "      <th>2</th>\n",
       "      <td>SN_nan_4300003349</td>\n",
       "      <td>4300003349</td>\n",
       "      <td>14/03/1994</td>\n",
       "      <td>NaN</td>\n",
       "      <td>Poço tubular</td>\n",
       "      <td>Abastecimento doméstico/animal</td>\n",
       "      <td>393.0</td>\n",
       "      <td>LINHA PASSO DO UVA</td>\n",
       "      <td>6983377</td>\n",
       "      <td>368693</td>\n",
       "      <td>271558</td>\n",
       "      <td>521935</td>\n",
       "      <td>Rio Uruguai</td>\n",
       "      <td>Rios Uruguai, Chapeco e outros</td>\n",
       "      <td>15/10/2005</td>\n",
       "      <td>Abandonado</td>\n",
       "      <td>WST</td>\n",
       "      <td>SIAGAS</td>\n",
       "      <td>NaN</td>\n",
       "    </tr>\n",
       "    <tr>\n",
       "      <th>3</th>\n",
       "      <td>SN_nan_4300003350</td>\n",
       "      <td>4300003350</td>\n",
       "      <td>29/05/1998</td>\n",
       "      <td>NaN</td>\n",
       "      <td>Poço tubular</td>\n",
       "      <td>Abastecimento doméstico/animal</td>\n",
       "      <td>360.0</td>\n",
       "      <td>LINHA ALTO BORBOLETA</td>\n",
       "      <td>6987118</td>\n",
       "      <td>365730</td>\n",
       "      <td>271356</td>\n",
       "      <td>522122</td>\n",
       "      <td>Rio Uruguai</td>\n",
       "      <td>Rios Uruguai, Chapeco e outros</td>\n",
       "      <td>13/10/2005</td>\n",
       "      <td>Bombeando</td>\n",
       "      <td>WST</td>\n",
       "      <td>SIAGAS</td>\n",
       "      <td>NaN</td>\n",
       "    </tr>\n",
       "    <tr>\n",
       "      <th>4</th>\n",
       "      <td>SN_nan_4300003351</td>\n",
       "      <td>4300003351</td>\n",
       "      <td>26/07/1994</td>\n",
       "      <td>NaN</td>\n",
       "      <td>Poço tubular</td>\n",
       "      <td>NaN</td>\n",
       "      <td>500.0</td>\n",
       "      <td>LINHA PINDORAMA</td>\n",
       "      <td>6987450</td>\n",
       "      <td>362900</td>\n",
       "      <td>271343</td>\n",
       "      <td>522304</td>\n",
       "      <td>Rio Uruguai</td>\n",
       "      <td>Rios Uruguai, Chapeco e outros</td>\n",
       "      <td>15/06/1998</td>\n",
       "      <td>Seco</td>\n",
       "      <td>WST</td>\n",
       "      <td>SIAGAS</td>\n",
       "      <td>NaN</td>\n",
       "    </tr>\n",
       "  </tbody>\n",
       "</table>\n",
       "</div>"
      ],
      "text/plain": [
       "                nome  cod_siagas data_da_instalacao proprietario  \\\n",
       "0  SN_nan_4300003347  4300003347         13/08/1984          NaN   \n",
       "1  SN_nan_4300003348  4300003348         28/05/1998          NaN   \n",
       "2  SN_nan_4300003349  4300003349         14/03/1994          NaN   \n",
       "3  SN_nan_4300003350  4300003350         29/05/1998          NaN   \n",
       "4  SN_nan_4300003351  4300003351         26/07/1994          NaN   \n",
       "\n",
       "  natureza_ponto                     uso_da_agua  cota_do_terreno  \\\n",
       "0   Poço tubular            Abastecimento urbano            340.0   \n",
       "1   Poço tubular         Abastecimento doméstico            324.0   \n",
       "2   Poço tubular  Abastecimento doméstico/animal            393.0   \n",
       "3   Poço tubular  Abastecimento doméstico/animal            360.0   \n",
       "4   Poço tubular                             NaN            500.0   \n",
       "\n",
       "             localidade   utm_ns  utm_lo  latitude  longitude  \\\n",
       "0    LINHA PASSO DA UVA  6983841  367615    271543     522014   \n",
       "1    LINHA PASSO DO UVA  6983796  367796    271544     522008   \n",
       "2    LINHA PASSO DO UVA  6983377  368693    271558     521935   \n",
       "3  LINHA ALTO BORBOLETA  6987118  365730    271356     522122   \n",
       "4       LINHA PINDORAMA  6987450  362900    271343     522304   \n",
       "\n",
       "  bacia_hidrografica           subbacia_hidrografica data_registro_situacao  \\\n",
       "0        Rio Uruguai  Rios Uruguai, Chapeco e outros             15/10/2005   \n",
       "1        Rio Uruguai  Rios Uruguai, Chapeco e outros             15/06/1998   \n",
       "2        Rio Uruguai  Rios Uruguai, Chapeco e outros             15/10/2005   \n",
       "3        Rio Uruguai  Rios Uruguai, Chapeco e outros             13/10/2005   \n",
       "4        Rio Uruguai  Rios Uruguai, Chapeco e outros             15/06/1998   \n",
       "\n",
       "     situacao resp_cadastro fonte_dados  comentarios  \n",
       "0   Bombeando           WST      SIAGAS          NaN  \n",
       "1    Equipado           WST      SIAGAS          NaN  \n",
       "2  Abandonado           WST      SIAGAS          NaN  \n",
       "3   Bombeando           WST      SIAGAS          NaN  \n",
       "4        Seco           WST      SIAGAS          NaN  "
      ]
     },
     "execution_count": 4,
     "metadata": {},
     "output_type": "execute_result"
    }
   ],
   "source": [
    "df_gerais.head()"
   ]
  },
  {
   "cell_type": "code",
   "execution_count": 5,
   "metadata": {},
   "outputs": [
    {
     "name": "stdout",
     "output_type": "stream",
     "text": [
      "A planilha de dados gerais possui 1185 linhas e 19 colunas.\n"
     ]
    }
   ],
   "source": [
    "shape_gerais = df_gerais.shape\n",
    "print(f'A planilha de dados gerais possui {shape_gerais[0]} linhas e {shape_gerais[1]} colunas.')"
   ]
  },
  {
   "cell_type": "markdown",
   "metadata": {},
   "source": [
    "### Litologias:"
   ]
  },
  {
   "cell_type": "code",
   "execution_count": 6,
   "metadata": {},
   "outputs": [
    {
     "data": {
      "text/html": [
       "<div>\n",
       "<style scoped>\n",
       "    .dataframe tbody tr th:only-of-type {\n",
       "        vertical-align: middle;\n",
       "    }\n",
       "\n",
       "    .dataframe tbody tr th {\n",
       "        vertical-align: top;\n",
       "    }\n",
       "\n",
       "    .dataframe thead th {\n",
       "        text-align: right;\n",
       "    }\n",
       "</style>\n",
       "<table border=\"1\" class=\"dataframe\">\n",
       "  <thead>\n",
       "    <tr style=\"text-align: right;\">\n",
       "      <th></th>\n",
       "      <th>nome</th>\n",
       "      <th>de</th>\n",
       "      <th>ate</th>\n",
       "      <th>litologia</th>\n",
       "      <th>descricao</th>\n",
       "      <th>fonte_dados</th>\n",
       "      <th>resp_cadastro</th>\n",
       "      <th>comentarios</th>\n",
       "    </tr>\n",
       "  </thead>\n",
       "  <tbody>\n",
       "    <tr>\n",
       "      <th>0</th>\n",
       "      <td>SN_nan_4300003347</td>\n",
       "      <td>0.0</td>\n",
       "      <td>8.0</td>\n",
       "      <td>Solo argiloso</td>\n",
       "      <td>SOLO ARGILOSO.</td>\n",
       "      <td>SIAGAS</td>\n",
       "      <td>WST</td>\n",
       "      <td>NaN</td>\n",
       "    </tr>\n",
       "    <tr>\n",
       "      <th>1</th>\n",
       "      <td>SN_nan_4300003347</td>\n",
       "      <td>8.0</td>\n",
       "      <td>15.0</td>\n",
       "      <td>Basalto</td>\n",
       "      <td>BASALTO CINZA</td>\n",
       "      <td>SIAGAS</td>\n",
       "      <td>WST</td>\n",
       "      <td>NaN</td>\n",
       "    </tr>\n",
       "    <tr>\n",
       "      <th>2</th>\n",
       "      <td>SN_nan_4300003347</td>\n",
       "      <td>15.0</td>\n",
       "      <td>54.0</td>\n",
       "      <td>Basalto</td>\n",
       "      <td>BASALTO CINZA INALTERADO.</td>\n",
       "      <td>SIAGAS</td>\n",
       "      <td>WST</td>\n",
       "      <td>NaN</td>\n",
       "    </tr>\n",
       "    <tr>\n",
       "      <th>3</th>\n",
       "      <td>SN_nan_4300003347</td>\n",
       "      <td>54.0</td>\n",
       "      <td>66.0</td>\n",
       "      <td>Basalto</td>\n",
       "      <td>BASALTO CASTANHO POUCO AL-TERADO.</td>\n",
       "      <td>SIAGAS</td>\n",
       "      <td>WST</td>\n",
       "      <td>NaN</td>\n",
       "    </tr>\n",
       "    <tr>\n",
       "      <th>4</th>\n",
       "      <td>SN_nan_4300003347</td>\n",
       "      <td>66.0</td>\n",
       "      <td>73.0</td>\n",
       "      <td>Basalto</td>\n",
       "      <td>BASALTO CINZA SAO.</td>\n",
       "      <td>SIAGAS</td>\n",
       "      <td>WST</td>\n",
       "      <td>NaN</td>\n",
       "    </tr>\n",
       "  </tbody>\n",
       "</table>\n",
       "</div>"
      ],
      "text/plain": [
       "                nome    de   ate      litologia  \\\n",
       "0  SN_nan_4300003347   0.0   8.0  Solo argiloso   \n",
       "1  SN_nan_4300003347   8.0  15.0        Basalto   \n",
       "2  SN_nan_4300003347  15.0  54.0        Basalto   \n",
       "3  SN_nan_4300003347  54.0  66.0        Basalto   \n",
       "4  SN_nan_4300003347  66.0  73.0        Basalto   \n",
       "\n",
       "                           descricao fonte_dados resp_cadastro  comentarios  \n",
       "0                     SOLO ARGILOSO.      SIAGAS           WST          NaN  \n",
       "1                      BASALTO CINZA      SIAGAS           WST          NaN  \n",
       "2          BASALTO CINZA INALTERADO.      SIAGAS           WST          NaN  \n",
       "3  BASALTO CASTANHO POUCO AL-TERADO.      SIAGAS           WST          NaN  \n",
       "4                 BASALTO CINZA SAO.      SIAGAS           WST          NaN  "
      ]
     },
     "execution_count": 6,
     "metadata": {},
     "output_type": "execute_result"
    }
   ],
   "source": [
    "df_litologia.head()"
   ]
  },
  {
   "cell_type": "code",
   "execution_count": 7,
   "metadata": {},
   "outputs": [
    {
     "name": "stdout",
     "output_type": "stream",
     "text": [
      "A planilha de litologias possui 2837 linhas e 8 colunas.\n"
     ]
    }
   ],
   "source": [
    "shape_litologia = df_litologia.shape\n",
    "print(f'A planilha de litologias possui {shape_litologia[0]} linhas e {shape_litologia[1]} colunas.')"
   ]
  },
  {
   "cell_type": "markdown",
   "metadata": {},
   "source": [
    "Para nosso objetivo é interessante possuirmos a latitude, longitude e cota dos poços. Podemos observar que só temos essas informações nos dados gerais.\n",
    "\n",
    "Vamos, então, adicionar essas informações nos dados de litologia. Para fazer isso, precisamos criar uma estrutura de dados chamada __dicionário__, que nos ajuda a indicar um valor a partir de uma chave. No contexto da linguagem Python, a sintaxe de diconário é essa:\n",
    "\n",
    "```python\n",
    "exemplo = {\n",
    "    'chave1' : 'valor1',\n",
    "    'chave2' : 'valor2',\n",
    "    'chave3' : 'valor3'\n",
    "}\n",
    "```\n",
    "\n",
    "Em nosso código, precisamos criar pares de tuplas (outra forma de estruturar dados) para então convertê-las em dicionário. Utilizaremos o método <code>zip</code> para tornar duas listas de mesmo comprimento em uma lista de tuplas com dois elemento. O dicionário necessita de uma chave única para cada valor. Como temos certeza de que os dados da planilha de dados gerais não possui duplicatas, não precisaremos fazer esse tratamento."
   ]
  },
  {
   "cell_type": "code",
   "execution_count": 8,
   "metadata": {},
   "outputs": [],
   "source": [
    "#Vamos criar uma estrutura de dicionário contendo uma relação de nomes-utm_ns e nomes-utm_lo\n",
    "dict_ns = dict(zip(df_gerais['nome'],df_gerais['utm_ns']))\n",
    "dict_lo = dict(zip(df_gerais['nome'],df_gerais['utm_lo']))\n",
    "dict_cota = dict(zip(df_gerais['nome'],df_gerais['cota_do_terreno']))\n",
    "\n",
    "#Coordenadas Norte-Sul\n",
    "df_litologia['utm_ns'] = df_litologia['nome'].map(dict_ns)\n",
    "df_litologia['utm_lo'] = df_litologia['nome'].map(dict_lo)\n",
    "df_litologia['cota_do_terreno'] = df_litologia['nome'].map(dict_cota)"
   ]
  },
  {
   "cell_type": "markdown",
   "metadata": {},
   "source": [
    "Vamos agora checar como está nosso _dataframe_ de litologia:"
   ]
  },
  {
   "cell_type": "code",
   "execution_count": 9,
   "metadata": {},
   "outputs": [
    {
     "data": {
      "text/html": [
       "<div>\n",
       "<style scoped>\n",
       "    .dataframe tbody tr th:only-of-type {\n",
       "        vertical-align: middle;\n",
       "    }\n",
       "\n",
       "    .dataframe tbody tr th {\n",
       "        vertical-align: top;\n",
       "    }\n",
       "\n",
       "    .dataframe thead th {\n",
       "        text-align: right;\n",
       "    }\n",
       "</style>\n",
       "<table border=\"1\" class=\"dataframe\">\n",
       "  <thead>\n",
       "    <tr style=\"text-align: right;\">\n",
       "      <th></th>\n",
       "      <th>nome</th>\n",
       "      <th>de</th>\n",
       "      <th>ate</th>\n",
       "      <th>litologia</th>\n",
       "      <th>descricao</th>\n",
       "      <th>fonte_dados</th>\n",
       "      <th>resp_cadastro</th>\n",
       "      <th>comentarios</th>\n",
       "      <th>utm_ns</th>\n",
       "      <th>utm_lo</th>\n",
       "      <th>cota_do_terreno</th>\n",
       "    </tr>\n",
       "  </thead>\n",
       "  <tbody>\n",
       "    <tr>\n",
       "      <th>0</th>\n",
       "      <td>SN_nan_4300003347</td>\n",
       "      <td>0.0</td>\n",
       "      <td>8.0</td>\n",
       "      <td>Solo argiloso</td>\n",
       "      <td>SOLO ARGILOSO.</td>\n",
       "      <td>SIAGAS</td>\n",
       "      <td>WST</td>\n",
       "      <td>NaN</td>\n",
       "      <td>6983841</td>\n",
       "      <td>367615</td>\n",
       "      <td>340.0</td>\n",
       "    </tr>\n",
       "    <tr>\n",
       "      <th>1</th>\n",
       "      <td>SN_nan_4300003347</td>\n",
       "      <td>8.0</td>\n",
       "      <td>15.0</td>\n",
       "      <td>Basalto</td>\n",
       "      <td>BASALTO CINZA</td>\n",
       "      <td>SIAGAS</td>\n",
       "      <td>WST</td>\n",
       "      <td>NaN</td>\n",
       "      <td>6983841</td>\n",
       "      <td>367615</td>\n",
       "      <td>340.0</td>\n",
       "    </tr>\n",
       "    <tr>\n",
       "      <th>2</th>\n",
       "      <td>SN_nan_4300003347</td>\n",
       "      <td>15.0</td>\n",
       "      <td>54.0</td>\n",
       "      <td>Basalto</td>\n",
       "      <td>BASALTO CINZA INALTERADO.</td>\n",
       "      <td>SIAGAS</td>\n",
       "      <td>WST</td>\n",
       "      <td>NaN</td>\n",
       "      <td>6983841</td>\n",
       "      <td>367615</td>\n",
       "      <td>340.0</td>\n",
       "    </tr>\n",
       "    <tr>\n",
       "      <th>3</th>\n",
       "      <td>SN_nan_4300003347</td>\n",
       "      <td>54.0</td>\n",
       "      <td>66.0</td>\n",
       "      <td>Basalto</td>\n",
       "      <td>BASALTO CASTANHO POUCO AL-TERADO.</td>\n",
       "      <td>SIAGAS</td>\n",
       "      <td>WST</td>\n",
       "      <td>NaN</td>\n",
       "      <td>6983841</td>\n",
       "      <td>367615</td>\n",
       "      <td>340.0</td>\n",
       "    </tr>\n",
       "    <tr>\n",
       "      <th>4</th>\n",
       "      <td>SN_nan_4300003347</td>\n",
       "      <td>66.0</td>\n",
       "      <td>73.0</td>\n",
       "      <td>Basalto</td>\n",
       "      <td>BASALTO CINZA SAO.</td>\n",
       "      <td>SIAGAS</td>\n",
       "      <td>WST</td>\n",
       "      <td>NaN</td>\n",
       "      <td>6983841</td>\n",
       "      <td>367615</td>\n",
       "      <td>340.0</td>\n",
       "    </tr>\n",
       "  </tbody>\n",
       "</table>\n",
       "</div>"
      ],
      "text/plain": [
       "                nome    de   ate      litologia  \\\n",
       "0  SN_nan_4300003347   0.0   8.0  Solo argiloso   \n",
       "1  SN_nan_4300003347   8.0  15.0        Basalto   \n",
       "2  SN_nan_4300003347  15.0  54.0        Basalto   \n",
       "3  SN_nan_4300003347  54.0  66.0        Basalto   \n",
       "4  SN_nan_4300003347  66.0  73.0        Basalto   \n",
       "\n",
       "                           descricao fonte_dados resp_cadastro  comentarios  \\\n",
       "0                     SOLO ARGILOSO.      SIAGAS           WST          NaN   \n",
       "1                      BASALTO CINZA      SIAGAS           WST          NaN   \n",
       "2          BASALTO CINZA INALTERADO.      SIAGAS           WST          NaN   \n",
       "3  BASALTO CASTANHO POUCO AL-TERADO.      SIAGAS           WST          NaN   \n",
       "4                 BASALTO CINZA SAO.      SIAGAS           WST          NaN   \n",
       "\n",
       "    utm_ns  utm_lo  cota_do_terreno  \n",
       "0  6983841  367615            340.0  \n",
       "1  6983841  367615            340.0  \n",
       "2  6983841  367615            340.0  \n",
       "3  6983841  367615            340.0  \n",
       "4  6983841  367615            340.0  "
      ]
     },
     "execution_count": 9,
     "metadata": {},
     "output_type": "execute_result"
    }
   ],
   "source": [
    "df_litologia.head()"
   ]
  },
  {
   "cell_type": "markdown",
   "metadata": {},
   "source": [
    "Podemos observar que a nossa litologia possui elementos repetidos para um mesmo nome de poço!\n",
    "\n",
    "É interessante para nós termos valores únicos para cada camada litológica descrita. Vamos, portanto, utilizar a função declarada lá no início para agrupar as litologias."
   ]
  },
  {
   "cell_type": "code",
   "execution_count": 10,
   "metadata": {},
   "outputs": [
    {
     "data": {
      "text/html": [
       "<div>\n",
       "<style scoped>\n",
       "    .dataframe tbody tr th:only-of-type {\n",
       "        vertical-align: middle;\n",
       "    }\n",
       "\n",
       "    .dataframe tbody tr th {\n",
       "        vertical-align: top;\n",
       "    }\n",
       "\n",
       "    .dataframe thead th {\n",
       "        text-align: right;\n",
       "    }\n",
       "</style>\n",
       "<table border=\"1\" class=\"dataframe\">\n",
       "  <thead>\n",
       "    <tr style=\"text-align: right;\">\n",
       "      <th></th>\n",
       "      <th>nome</th>\n",
       "      <th>de</th>\n",
       "      <th>ate</th>\n",
       "      <th>litologia</th>\n",
       "      <th>descricao</th>\n",
       "      <th>fonte_dados</th>\n",
       "      <th>resp_cadastro</th>\n",
       "      <th>comentarios</th>\n",
       "      <th>utm_ns</th>\n",
       "      <th>utm_lo</th>\n",
       "      <th>cota_do_terreno</th>\n",
       "    </tr>\n",
       "  </thead>\n",
       "  <tbody>\n",
       "    <tr>\n",
       "      <th>1761</th>\n",
       "      <td>SN_nan_4300015619</td>\n",
       "      <td>0.0</td>\n",
       "      <td>186.0</td>\n",
       "      <td>Basalto</td>\n",
       "      <td>Basalto</td>\n",
       "      <td>SIAGAS</td>\n",
       "      <td>WST</td>\n",
       "      <td>NaN</td>\n",
       "      <td>7010189</td>\n",
       "      <td>344574</td>\n",
       "      <td>504.0</td>\n",
       "    </tr>\n",
       "    <tr>\n",
       "      <th>746</th>\n",
       "      <td>SN_nan_4300004878</td>\n",
       "      <td>0.0</td>\n",
       "      <td>128.0</td>\n",
       "      <td>Basalto</td>\n",
       "      <td>BASALTO</td>\n",
       "      <td>SIAGAS</td>\n",
       "      <td>WST</td>\n",
       "      <td>NaN</td>\n",
       "      <td>7019845</td>\n",
       "      <td>305660</td>\n",
       "      <td>335.0</td>\n",
       "    </tr>\n",
       "    <tr>\n",
       "      <th>1585</th>\n",
       "      <td>SN_nan_4300012884</td>\n",
       "      <td>1.0</td>\n",
       "      <td>102.0</td>\n",
       "      <td>Basalto</td>\n",
       "      <td>BASALTO CINZA CLARO, INALTERADO MACICO.</td>\n",
       "      <td>SIAGAS</td>\n",
       "      <td>WST</td>\n",
       "      <td>NaN</td>\n",
       "      <td>7019808</td>\n",
       "      <td>308525</td>\n",
       "      <td>325.0</td>\n",
       "    </tr>\n",
       "    <tr>\n",
       "      <th>1584</th>\n",
       "      <td>SN_nan_4300012884</td>\n",
       "      <td>0.0</td>\n",
       "      <td>1.0</td>\n",
       "      <td>Solo</td>\n",
       "      <td>Solo</td>\n",
       "      <td>SIAGAS</td>\n",
       "      <td>WST</td>\n",
       "      <td>NaN</td>\n",
       "      <td>7019808</td>\n",
       "      <td>308525</td>\n",
       "      <td>325.0</td>\n",
       "    </tr>\n",
       "    <tr>\n",
       "      <th>138</th>\n",
       "      <td>SN_NORTE GAS BUTANO DISTR. LTDA_4300003933</td>\n",
       "      <td>0.0</td>\n",
       "      <td>100.0</td>\n",
       "      <td>Basalto</td>\n",
       "      <td>BASALTO</td>\n",
       "      <td>SIAGAS</td>\n",
       "      <td>WST</td>\n",
       "      <td>NaN</td>\n",
       "      <td>7007965</td>\n",
       "      <td>369693</td>\n",
       "      <td>589.0</td>\n",
       "    </tr>\n",
       "    <tr>\n",
       "      <th>...</th>\n",
       "      <td>...</td>\n",
       "      <td>...</td>\n",
       "      <td>...</td>\n",
       "      <td>...</td>\n",
       "      <td>...</td>\n",
       "      <td>...</td>\n",
       "      <td>...</td>\n",
       "      <td>...</td>\n",
       "      <td>...</td>\n",
       "      <td>...</td>\n",
       "      <td>...</td>\n",
       "    </tr>\n",
       "    <tr>\n",
       "      <th>1001</th>\n",
       "      <td>SN_nan_4300010947</td>\n",
       "      <td>0.0</td>\n",
       "      <td>182.0</td>\n",
       "      <td>Basalto</td>\n",
       "      <td>Basalto cinza</td>\n",
       "      <td>SIAGAS</td>\n",
       "      <td>WST</td>\n",
       "      <td>NaN</td>\n",
       "      <td>6987252</td>\n",
       "      <td>333413</td>\n",
       "      <td>587.0</td>\n",
       "    </tr>\n",
       "    <tr>\n",
       "      <th>573</th>\n",
       "      <td>SN_nan_4300004644</td>\n",
       "      <td>0.0</td>\n",
       "      <td>0.1</td>\n",
       "      <td>Basalto</td>\n",
       "      <td>Basalto</td>\n",
       "      <td>SIAGAS</td>\n",
       "      <td>WST</td>\n",
       "      <td>NaN</td>\n",
       "      <td>7013711</td>\n",
       "      <td>340676</td>\n",
       "      <td>710.0</td>\n",
       "    </tr>\n",
       "    <tr>\n",
       "      <th>219</th>\n",
       "      <td>SN_nan_4300004151</td>\n",
       "      <td>0.0</td>\n",
       "      <td>72.0</td>\n",
       "      <td>Basalto</td>\n",
       "      <td>BASALTO CINZA cinza</td>\n",
       "      <td>SIAGAS</td>\n",
       "      <td>WST</td>\n",
       "      <td>NaN</td>\n",
       "      <td>6995688</td>\n",
       "      <td>366339</td>\n",
       "      <td>540.0</td>\n",
       "    </tr>\n",
       "    <tr>\n",
       "      <th>211</th>\n",
       "      <td>SN_nan_4300004145</td>\n",
       "      <td>4.0</td>\n",
       "      <td>84.0</td>\n",
       "      <td>Basalto</td>\n",
       "      <td>BASALTO ALTERADO MOLE</td>\n",
       "      <td>SIAGAS</td>\n",
       "      <td>WST</td>\n",
       "      <td>NaN</td>\n",
       "      <td>6995446</td>\n",
       "      <td>366660</td>\n",
       "      <td>670.0</td>\n",
       "    </tr>\n",
       "    <tr>\n",
       "      <th>210</th>\n",
       "      <td>SN_nan_4300004145</td>\n",
       "      <td>0.0</td>\n",
       "      <td>4.0</td>\n",
       "      <td>Solo</td>\n",
       "      <td>SOLO RESIDUAL</td>\n",
       "      <td>SIAGAS</td>\n",
       "      <td>WST</td>\n",
       "      <td>NaN</td>\n",
       "      <td>6995446</td>\n",
       "      <td>366660</td>\n",
       "      <td>670.0</td>\n",
       "    </tr>\n",
       "  </tbody>\n",
       "</table>\n",
       "<p>1446 rows × 11 columns</p>\n",
       "</div>"
      ],
      "text/plain": [
       "                                            nome   de    ate litologia  \\\n",
       "1761                           SN_nan_4300015619  0.0  186.0   Basalto   \n",
       "746                            SN_nan_4300004878  0.0  128.0   Basalto   \n",
       "1585                           SN_nan_4300012884  1.0  102.0   Basalto   \n",
       "1584                           SN_nan_4300012884  0.0    1.0      Solo   \n",
       "138   SN_NORTE GAS BUTANO DISTR. LTDA_4300003933  0.0  100.0   Basalto   \n",
       "...                                          ...  ...    ...       ...   \n",
       "1001                           SN_nan_4300010947  0.0  182.0   Basalto   \n",
       "573                            SN_nan_4300004644  0.0    0.1   Basalto   \n",
       "219                            SN_nan_4300004151  0.0   72.0   Basalto   \n",
       "211                            SN_nan_4300004145  4.0   84.0   Basalto   \n",
       "210                            SN_nan_4300004145  0.0    4.0      Solo   \n",
       "\n",
       "                                    descricao fonte_dados resp_cadastro  \\\n",
       "1761                                  Basalto      SIAGAS           WST   \n",
       "746                                   BASALTO      SIAGAS           WST   \n",
       "1585  BASALTO CINZA CLARO, INALTERADO MACICO.      SIAGAS           WST   \n",
       "1584                                     Solo      SIAGAS           WST   \n",
       "138                                   BASALTO      SIAGAS           WST   \n",
       "...                                       ...         ...           ...   \n",
       "1001                            Basalto cinza      SIAGAS           WST   \n",
       "573                                   Basalto      SIAGAS           WST   \n",
       "219                       BASALTO CINZA cinza      SIAGAS           WST   \n",
       "211                     BASALTO ALTERADO MOLE      SIAGAS           WST   \n",
       "210                             SOLO RESIDUAL      SIAGAS           WST   \n",
       "\n",
       "      comentarios   utm_ns  utm_lo  cota_do_terreno  \n",
       "1761          NaN  7010189  344574            504.0  \n",
       "746           NaN  7019845  305660            335.0  \n",
       "1585          NaN  7019808  308525            325.0  \n",
       "1584          NaN  7019808  308525            325.0  \n",
       "138           NaN  7007965  369693            589.0  \n",
       "...           ...      ...     ...              ...  \n",
       "1001          NaN  6987252  333413            587.0  \n",
       "573           NaN  7013711  340676            710.0  \n",
       "219           NaN  6995688  366339            540.0  \n",
       "211           NaN  6995446  366660            670.0  \n",
       "210           NaN  6995446  366660            670.0  \n",
       "\n",
       "[1446 rows x 11 columns]"
      ]
     },
     "execution_count": 10,
     "metadata": {},
     "output_type": "execute_result"
    }
   ],
   "source": [
    "df_litologia = agruparLitologias( df_litologia )\n",
    "df_litologia"
   ]
  },
  {
   "cell_type": "markdown",
   "metadata": {},
   "source": [
    "Feito isso, iremos manter somente as colunas que iremos utilizar em nosso _dataset_:\n",
    "\n",
    "- nome\n",
    "- de\n",
    "- ate\n",
    "- litologia\n",
    "- latitude\n",
    "- longitude\n",
    "- cota_do_terreno"
   ]
  },
  {
   "cell_type": "code",
   "execution_count": 11,
   "metadata": {},
   "outputs": [],
   "source": [
    "#df_litologia = df_litologia.drop(['descricao', 'fonte_dados','resp_cadastro', 'comentarios'], axis=1)"
   ]
  },
  {
   "cell_type": "code",
   "execution_count": 12,
   "metadata": {},
   "outputs": [
    {
     "data": {
      "text/html": [
       "<div>\n",
       "<style scoped>\n",
       "    .dataframe tbody tr th:only-of-type {\n",
       "        vertical-align: middle;\n",
       "    }\n",
       "\n",
       "    .dataframe tbody tr th {\n",
       "        vertical-align: top;\n",
       "    }\n",
       "\n",
       "    .dataframe thead th {\n",
       "        text-align: right;\n",
       "    }\n",
       "</style>\n",
       "<table border=\"1\" class=\"dataframe\">\n",
       "  <thead>\n",
       "    <tr style=\"text-align: right;\">\n",
       "      <th></th>\n",
       "      <th>nome</th>\n",
       "      <th>de</th>\n",
       "      <th>ate</th>\n",
       "      <th>litologia</th>\n",
       "      <th>utm_ns</th>\n",
       "      <th>utm_lo</th>\n",
       "      <th>cota_do_terreno</th>\n",
       "    </tr>\n",
       "  </thead>\n",
       "  <tbody>\n",
       "    <tr>\n",
       "      <th>1761</th>\n",
       "      <td>SN_nan_4300015619</td>\n",
       "      <td>0.0</td>\n",
       "      <td>186.0</td>\n",
       "      <td>Basalto</td>\n",
       "      <td>7010189</td>\n",
       "      <td>344574</td>\n",
       "      <td>504.0</td>\n",
       "    </tr>\n",
       "    <tr>\n",
       "      <th>746</th>\n",
       "      <td>SN_nan_4300004878</td>\n",
       "      <td>0.0</td>\n",
       "      <td>128.0</td>\n",
       "      <td>Basalto</td>\n",
       "      <td>7019845</td>\n",
       "      <td>305660</td>\n",
       "      <td>335.0</td>\n",
       "    </tr>\n",
       "    <tr>\n",
       "      <th>1585</th>\n",
       "      <td>SN_nan_4300012884</td>\n",
       "      <td>1.0</td>\n",
       "      <td>102.0</td>\n",
       "      <td>Basalto</td>\n",
       "      <td>7019808</td>\n",
       "      <td>308525</td>\n",
       "      <td>325.0</td>\n",
       "    </tr>\n",
       "    <tr>\n",
       "      <th>1584</th>\n",
       "      <td>SN_nan_4300012884</td>\n",
       "      <td>0.0</td>\n",
       "      <td>1.0</td>\n",
       "      <td>Solo</td>\n",
       "      <td>7019808</td>\n",
       "      <td>308525</td>\n",
       "      <td>325.0</td>\n",
       "    </tr>\n",
       "    <tr>\n",
       "      <th>138</th>\n",
       "      <td>SN_NORTE GAS BUTANO DISTR. LTDA_4300003933</td>\n",
       "      <td>0.0</td>\n",
       "      <td>100.0</td>\n",
       "      <td>Basalto</td>\n",
       "      <td>7007965</td>\n",
       "      <td>369693</td>\n",
       "      <td>589.0</td>\n",
       "    </tr>\n",
       "  </tbody>\n",
       "</table>\n",
       "</div>"
      ],
      "text/plain": [
       "                                            nome   de    ate litologia  \\\n",
       "1761                           SN_nan_4300015619  0.0  186.0   Basalto   \n",
       "746                            SN_nan_4300004878  0.0  128.0   Basalto   \n",
       "1585                           SN_nan_4300012884  1.0  102.0   Basalto   \n",
       "1584                           SN_nan_4300012884  0.0    1.0      Solo   \n",
       "138   SN_NORTE GAS BUTANO DISTR. LTDA_4300003933  0.0  100.0   Basalto   \n",
       "\n",
       "       utm_ns  utm_lo  cota_do_terreno  \n",
       "1761  7010189  344574            504.0  \n",
       "746   7019845  305660            335.0  \n",
       "1585  7019808  308525            325.0  \n",
       "1584  7019808  308525            325.0  \n",
       "138   7007965  369693            589.0  "
      ]
     },
     "execution_count": 12,
     "metadata": {},
     "output_type": "execute_result"
    }
   ],
   "source": [
    "df_litologia.head()"
   ]
  },
  {
   "cell_type": "markdown",
   "metadata": {},
   "source": [
    "Perfeito, temos a planilha configurada para começarmos a analizar os dados. Primeiro vamos checar se há dados faltantes nos campos."
   ]
  },
  {
   "cell_type": "code",
   "execution_count": 13,
   "metadata": {},
   "outputs": [
    {
     "data": {
      "text/plain": [
       "<matplotlib.axes._subplots.AxesSubplot at 0x7f42b27a6400>"
      ]
     },
     "execution_count": 13,
     "metadata": {},
     "output_type": "execute_result"
    },
    {
     "data": {
      "image/png": "[encoded data removed]",
      "text/plain": [
       "<Figure size 432x288 with 1 Axes>"
      ]
     },
     "metadata": {
      "needs_background": "light"
     },
     "output_type": "display_data"
    }
   ],
   "source": [
    "sn.heatmap(df_litologia.isnull(), cmap='viridis', yticklabels=False, cbar=False)"
   ]
  },
  {
   "cell_type": "markdown",
   "metadata": {},
   "source": [
    "É possível notar que existem dados que não possuem cota de terreno. Nesse caso, é interessante removermos de nossa análise."
   ]
  },
  {
   "cell_type": "code",
   "execution_count": 14,
   "metadata": {},
   "outputs": [
    {
     "data": {
      "text/html": [
       "<div>\n",
       "<style scoped>\n",
       "    .dataframe tbody tr th:only-of-type {\n",
       "        vertical-align: middle;\n",
       "    }\n",
       "\n",
       "    .dataframe tbody tr th {\n",
       "        vertical-align: top;\n",
       "    }\n",
       "\n",
       "    .dataframe thead th {\n",
       "        text-align: right;\n",
       "    }\n",
       "</style>\n",
       "<table border=\"1\" class=\"dataframe\">\n",
       "  <thead>\n",
       "    <tr style=\"text-align: right;\">\n",
       "      <th></th>\n",
       "      <th>nome</th>\n",
       "      <th>de</th>\n",
       "      <th>ate</th>\n",
       "      <th>litologia</th>\n",
       "      <th>utm_ns</th>\n",
       "      <th>utm_lo</th>\n",
       "      <th>cota_do_terreno</th>\n",
       "    </tr>\n",
       "  </thead>\n",
       "  <tbody>\n",
       "    <tr>\n",
       "      <th>1761</th>\n",
       "      <td>SN_nan_4300015619</td>\n",
       "      <td>0.0</td>\n",
       "      <td>186.0</td>\n",
       "      <td>Basalto</td>\n",
       "      <td>7010189</td>\n",
       "      <td>344574</td>\n",
       "      <td>504.0</td>\n",
       "    </tr>\n",
       "    <tr>\n",
       "      <th>746</th>\n",
       "      <td>SN_nan_4300004878</td>\n",
       "      <td>0.0</td>\n",
       "      <td>128.0</td>\n",
       "      <td>Basalto</td>\n",
       "      <td>7019845</td>\n",
       "      <td>305660</td>\n",
       "      <td>335.0</td>\n",
       "    </tr>\n",
       "    <tr>\n",
       "      <th>1585</th>\n",
       "      <td>SN_nan_4300012884</td>\n",
       "      <td>1.0</td>\n",
       "      <td>102.0</td>\n",
       "      <td>Basalto</td>\n",
       "      <td>7019808</td>\n",
       "      <td>308525</td>\n",
       "      <td>325.0</td>\n",
       "    </tr>\n",
       "    <tr>\n",
       "      <th>1584</th>\n",
       "      <td>SN_nan_4300012884</td>\n",
       "      <td>0.0</td>\n",
       "      <td>1.0</td>\n",
       "      <td>Solo</td>\n",
       "      <td>7019808</td>\n",
       "      <td>308525</td>\n",
       "      <td>325.0</td>\n",
       "    </tr>\n",
       "    <tr>\n",
       "      <th>138</th>\n",
       "      <td>SN_NORTE GAS BUTANO DISTR. LTDA_4300003933</td>\n",
       "      <td>0.0</td>\n",
       "      <td>100.0</td>\n",
       "      <td>Basalto</td>\n",
       "      <td>7007965</td>\n",
       "      <td>369693</td>\n",
       "      <td>589.0</td>\n",
       "    </tr>\n",
       "  </tbody>\n",
       "</table>\n",
       "</div>"
      ],
      "text/plain": [
       "                                            nome   de    ate litologia  \\\n",
       "1761                           SN_nan_4300015619  0.0  186.0   Basalto   \n",
       "746                            SN_nan_4300004878  0.0  128.0   Basalto   \n",
       "1585                           SN_nan_4300012884  1.0  102.0   Basalto   \n",
       "1584                           SN_nan_4300012884  0.0    1.0      Solo   \n",
       "138   SN_NORTE GAS BUTANO DISTR. LTDA_4300003933  0.0  100.0   Basalto   \n",
       "\n",
       "       utm_ns  utm_lo  cota_do_terreno  \n",
       "1761  7010189  344574            504.0  \n",
       "746   7019845  305660            335.0  \n",
       "1585  7019808  308525            325.0  \n",
       "1584  7019808  308525            325.0  \n",
       "138   7007965  369693            589.0  "
      ]
     },
     "execution_count": 14,
     "metadata": {},
     "output_type": "execute_result"
    }
   ],
   "source": [
    "df_litologia = df_litologia[ ~df_litologia['cota_do_terreno'].isnull() ]\n",
    "df_litologia.head()"
   ]
  },
  {
   "cell_type": "markdown",
   "metadata": {},
   "source": [
    "Vamos verificar se a operação ocorreu como o esperado:"
   ]
  },
  {
   "cell_type": "code",
   "execution_count": 15,
   "metadata": {},
   "outputs": [
    {
     "data": {
      "text/plain": [
       "<matplotlib.axes._subplots.AxesSubplot at 0x7f42b27a2ac0>"
      ]
     },
     "execution_count": 15,
     "metadata": {},
     "output_type": "execute_result"
    },
    {
     "data": {
      "image/png": "[encoded data removed]",
      "text/plain": [
       "<Figure size 432x288 with 1 Axes>"
      ]
     },
     "metadata": {
      "needs_background": "light"
     },
     "output_type": "display_data"
    }
   ],
   "source": [
    "sn.heatmap(df_litologia.isnull(), cmap='viridis', yticklabels=False, cbar=False)"
   ]
  },
  {
   "cell_type": "markdown",
   "metadata": {},
   "source": [
    "Perfeito, não possuímos mais dados sem valores. Agora vamos verificar a distribuição dos valores de cotas.\n",
    "\n",
    "Os poços foram extraídos da região de Chapecó e entornos. Vamos verificar a distribuição espacial e de valores."
   ]
  },
  {
   "cell_type": "code",
   "execution_count": 16,
   "metadata": {},
   "outputs": [],
   "source": [
    "# Certificando que os valores estarão armazenados como sendo floats\n",
    "df_litologia['utm_ns'] = df_litologia['utm_ns'].astype('float')\n",
    "df_litologia['utm_lo'] = df_litologia['utm_lo'].astype('float')\n",
    "df_litologia['cota_do_terreno'] = df_litologia['cota_do_terreno'].astype('float')"
   ]
  },
  {
   "cell_type": "markdown",
   "metadata": {},
   "source": [
    "### Cotas:"
   ]
  },
  {
   "cell_type": "code",
   "execution_count": 17,
   "metadata": {},
   "outputs": [
    {
     "data": {
      "text/plain": [
       "<matplotlib.axes._subplots.AxesSubplot at 0x7f42aeeb4a00>"
      ]
     },
     "execution_count": 17,
     "metadata": {},
     "output_type": "execute_result"
    },
    {
     "data": {
      "image/png": "[encoded data removed]",
      "text/plain": [
       "<Figure size 432x288 with 1 Axes>"
      ]
     },
     "metadata": {
      "needs_background": "light"
     },
     "output_type": "display_data"
    }
   ],
   "source": [
    "df_litologia['cota_do_terreno'].plot.box()"
   ]
  },
  {
   "cell_type": "code",
   "execution_count": 18,
   "metadata": {},
   "outputs": [
    {
     "data": {
      "text/plain": [
       "count    1414.000000\n",
       "mean      557.102546\n",
       "std       151.354578\n",
       "min       232.000000\n",
       "25%       423.250000\n",
       "50%       582.000000\n",
       "75%       676.000000\n",
       "max       865.000000\n",
       "Name: cota_do_terreno, dtype: float64"
      ]
     },
     "execution_count": 18,
     "metadata": {},
     "output_type": "execute_result"
    }
   ],
   "source": [
    "df_litologia['cota_do_terreno'].describe()"
   ]
  },
  {
   "cell_type": "code",
   "execution_count": 19,
   "metadata": {},
   "outputs": [
    {
     "data": {
      "text/plain": [
       "<matplotlib.axes._subplots.AxesSubplot at 0x7f42aee93250>"
      ]
     },
     "execution_count": 19,
     "metadata": {},
     "output_type": "execute_result"
    },
    {
     "data": {
      "image/png": "[encoded data removed]",
      "text/plain": [
       "<Figure size 432x288 with 1 Axes>"
      ]
     },
     "metadata": {
      "needs_background": "light"
     },
     "output_type": "display_data"
    }
   ],
   "source": [
    "df_litologia['cota_do_terreno'].hist()"
   ]
  },
  {
   "cell_type": "markdown",
   "metadata": {},
   "source": [
    "Podemos perceber que a maior parte da nossa distribuição de cotas se encontra a 638m acima do nível do mar. Vamos agora georeferenciar estas cotas para nos localizarmos e fazer uma análise mais aprofundada.\n",
    "\n",
    "Primeiro vamos importar o mapa de municípios de Santa Catarina."
   ]
  },
  {
   "cell_type": "code",
   "execution_count": 3,
   "metadata": {},
   "outputs": [
    {
     "data": {
      "text/plain": [
       "<matplotlib.axes._subplots.AxesSubplot at 0x7f11b465e6d0>"
      ]
     },
     "execution_count": 3,
     "metadata": {},
     "output_type": "execute_result"
    },
    {
     "data": {
      "image/png": "[encoded data removed]",
      "text/plain": [
       "<Figure size 432x288 with 1 Axes>"
      ]
     },
     "metadata": {
      "needs_background": "light"
     },
     "output_type": "display_data"
    }
   ],
   "source": [
    "mun_sc = gp.read_file('./gis/42MUE250GC_SIR.shp').set_crs('EPSG:31982') #Municípios_SIRGAS2000_22S.shp\n",
    "mun_sc.plot(column='NM_MUNICIP')"
   ]
  },
  {
   "cell_type": "code",
   "execution_count": 21,
   "metadata": {},
   "outputs": [
    {
     "data": {
      "text/html": [
       "<div>\n",
       "<style scoped>\n",
       "    .dataframe tbody tr th:only-of-type {\n",
       "        vertical-align: middle;\n",
       "    }\n",
       "\n",
       "    .dataframe tbody tr th {\n",
       "        vertical-align: top;\n",
       "    }\n",
       "\n",
       "    .dataframe thead th {\n",
       "        text-align: right;\n",
       "    }\n",
       "</style>\n",
       "<table border=\"1\" class=\"dataframe\">\n",
       "  <thead>\n",
       "    <tr style=\"text-align: right;\">\n",
       "      <th></th>\n",
       "      <th>NM_MUNICIP</th>\n",
       "      <th>CD_GEOCMU</th>\n",
       "      <th>geometry</th>\n",
       "    </tr>\n",
       "  </thead>\n",
       "  <tbody>\n",
       "    <tr>\n",
       "      <th>0</th>\n",
       "      <td>ABELARDO LUZ</td>\n",
       "      <td>4200101</td>\n",
       "      <td>POLYGON ((384491.277 7072162.034, 384602.835 7...</td>\n",
       "    </tr>\n",
       "    <tr>\n",
       "      <th>1</th>\n",
       "      <td>ÁGUAS DE CHAPECÓ</td>\n",
       "      <td>4200507</td>\n",
       "      <td>POLYGON ((308009.469 7017850.213, 308001.888 7...</td>\n",
       "    </tr>\n",
       "    <tr>\n",
       "      <th>2</th>\n",
       "      <td>ÁGUAS FRIAS</td>\n",
       "      <td>4200556</td>\n",
       "      <td>POLYGON ((320506.100 7031036.955, 320629.652 7...</td>\n",
       "    </tr>\n",
       "    <tr>\n",
       "      <th>3</th>\n",
       "      <td>ALTO BELA VISTA</td>\n",
       "      <td>4200754</td>\n",
       "      <td>POLYGON ((407065.221 6976057.505, 407279.770 6...</td>\n",
       "    </tr>\n",
       "    <tr>\n",
       "      <th>4</th>\n",
       "      <td>ANCHIETA</td>\n",
       "      <td>4200804</td>\n",
       "      <td>POLYGON ((276923.059 7062270.825, 275161.329 7...</td>\n",
       "    </tr>\n",
       "  </tbody>\n",
       "</table>\n",
       "</div>"
      ],
      "text/plain": [
       "         NM_MUNICIP CD_GEOCMU  \\\n",
       "0      ABELARDO LUZ   4200101   \n",
       "1  ÁGUAS DE CHAPECÓ   4200507   \n",
       "2       ÁGUAS FRIAS   4200556   \n",
       "3   ALTO BELA VISTA   4200754   \n",
       "4          ANCHIETA   4200804   \n",
       "\n",
       "                                            geometry  \n",
       "0  POLYGON ((384491.277 7072162.034, 384602.835 7...  \n",
       "1  POLYGON ((308009.469 7017850.213, 308001.888 7...  \n",
       "2  POLYGON ((320506.100 7031036.955, 320629.652 7...  \n",
       "3  POLYGON ((407065.221 6976057.505, 407279.770 6...  \n",
       "4  POLYGON ((276923.059 7062270.825, 275161.329 7...  "
      ]
     },
     "execution_count": 21,
     "metadata": {},
     "output_type": "execute_result"
    }
   ],
   "source": [
    "mun_sc.head()"
   ]
  },
  {
   "cell_type": "markdown",
   "metadata": {},
   "source": [
    "Perfeito. Agora iremos criar os pontos com feições em 3D utilizando o geopandas. Utilizaremos como valor de Z o valor da 'cota_do_terreno' menos o valor 'de'. Sabemos previamente que o SIAGAS utiliza SIRGAS2000."
   ]
  },
  {
   "cell_type": "code",
   "execution_count": 22,
   "metadata": {},
   "outputs": [
    {
     "data": {
      "text/html": [
       "<div>\n",
       "<style scoped>\n",
       "    .dataframe tbody tr th:only-of-type {\n",
       "        vertical-align: middle;\n",
       "    }\n",
       "\n",
       "    .dataframe tbody tr th {\n",
       "        vertical-align: top;\n",
       "    }\n",
       "\n",
       "    .dataframe thead th {\n",
       "        text-align: right;\n",
       "    }\n",
       "</style>\n",
       "<table border=\"1\" class=\"dataframe\">\n",
       "  <thead>\n",
       "    <tr style=\"text-align: right;\">\n",
       "      <th></th>\n",
       "      <th>nome</th>\n",
       "      <th>de</th>\n",
       "      <th>ate</th>\n",
       "      <th>litologia</th>\n",
       "      <th>utm_ns</th>\n",
       "      <th>utm_lo</th>\n",
       "      <th>cota_do_terreno</th>\n",
       "      <th>coordenadas</th>\n",
       "    </tr>\n",
       "  </thead>\n",
       "  <tbody>\n",
       "    <tr>\n",
       "      <th>1761</th>\n",
       "      <td>SN_nan_4300015619</td>\n",
       "      <td>0.0</td>\n",
       "      <td>186.0</td>\n",
       "      <td>Basalto</td>\n",
       "      <td>7010189.0</td>\n",
       "      <td>344574.0</td>\n",
       "      <td>504.0</td>\n",
       "      <td>POINT Z (344574 7010189 504)</td>\n",
       "    </tr>\n",
       "    <tr>\n",
       "      <th>746</th>\n",
       "      <td>SN_nan_4300004878</td>\n",
       "      <td>0.0</td>\n",
       "      <td>128.0</td>\n",
       "      <td>Basalto</td>\n",
       "      <td>7019845.0</td>\n",
       "      <td>305660.0</td>\n",
       "      <td>335.0</td>\n",
       "      <td>POINT Z (305660 7019845 335)</td>\n",
       "    </tr>\n",
       "    <tr>\n",
       "      <th>1585</th>\n",
       "      <td>SN_nan_4300012884</td>\n",
       "      <td>1.0</td>\n",
       "      <td>102.0</td>\n",
       "      <td>Basalto</td>\n",
       "      <td>7019808.0</td>\n",
       "      <td>308525.0</td>\n",
       "      <td>325.0</td>\n",
       "      <td>POINT Z (308525 7019808 324)</td>\n",
       "    </tr>\n",
       "    <tr>\n",
       "      <th>1584</th>\n",
       "      <td>SN_nan_4300012884</td>\n",
       "      <td>0.0</td>\n",
       "      <td>1.0</td>\n",
       "      <td>Solo</td>\n",
       "      <td>7019808.0</td>\n",
       "      <td>308525.0</td>\n",
       "      <td>325.0</td>\n",
       "      <td>POINT Z (308525 7019808 325)</td>\n",
       "    </tr>\n",
       "    <tr>\n",
       "      <th>138</th>\n",
       "      <td>SN_NORTE GAS BUTANO DISTR. LTDA_4300003933</td>\n",
       "      <td>0.0</td>\n",
       "      <td>100.0</td>\n",
       "      <td>Basalto</td>\n",
       "      <td>7007965.0</td>\n",
       "      <td>369693.0</td>\n",
       "      <td>589.0</td>\n",
       "      <td>POINT Z (369693 7007965 589)</td>\n",
       "    </tr>\n",
       "  </tbody>\n",
       "</table>\n",
       "</div>"
      ],
      "text/plain": [
       "                                            nome   de    ate litologia  \\\n",
       "1761                           SN_nan_4300015619  0.0  186.0   Basalto   \n",
       "746                            SN_nan_4300004878  0.0  128.0   Basalto   \n",
       "1585                           SN_nan_4300012884  1.0  102.0   Basalto   \n",
       "1584                           SN_nan_4300012884  0.0    1.0      Solo   \n",
       "138   SN_NORTE GAS BUTANO DISTR. LTDA_4300003933  0.0  100.0   Basalto   \n",
       "\n",
       "         utm_ns    utm_lo  cota_do_terreno                   coordenadas  \n",
       "1761  7010189.0  344574.0            504.0  POINT Z (344574 7010189 504)  \n",
       "746   7019845.0  305660.0            335.0  POINT Z (305660 7019845 335)  \n",
       "1585  7019808.0  308525.0            325.0  POINT Z (308525 7019808 324)  \n",
       "1584  7019808.0  308525.0            325.0  POINT Z (308525 7019808 325)  \n",
       "138   7007965.0  369693.0            589.0  POINT Z (369693 7007965 589)  "
      ]
     },
     "execution_count": 22,
     "metadata": {},
     "output_type": "execute_result"
    }
   ],
   "source": [
    "df_litologia['coordenadas'] = [ Point(coords) for coords in zip(df_litologia['utm_lo'],df_litologia['utm_ns'], df_litologia['cota_do_terreno'] - df_litologia['de'])]\n",
    "df_litologia.head()"
   ]
  },
  {
   "cell_type": "code",
   "execution_count": 23,
   "metadata": {},
   "outputs": [
    {
     "data": {
      "text/plain": [
       "<matplotlib.axes._subplots.AxesSubplot at 0x7f42b2adbe80>"
      ]
     },
     "execution_count": 23,
     "metadata": {},
     "output_type": "execute_result"
    },
    {
     "data": {
      "image/png": "[encoded data removed]",
      "text/plain": [
       "<Figure size 432x288 with 2 Axes>"
      ]
     },
     "metadata": {
      "needs_background": "light"
     },
     "output_type": "display_data"
    }
   ],
   "source": [
    "gdf_litologia = gp.GeoDataFrame(df_litologia, geometry='coordenadas').set_crs('EPSG:31982')\n",
    "gdf_litologia.plot(column='cota_do_terreno', legend=True)"
   ]
  },
  {
   "cell_type": "markdown",
   "metadata": {},
   "source": [
    "Agora veremos em nosso mapa:"
   ]
  },
  {
   "cell_type": "code",
   "execution_count": 24,
   "metadata": {},
   "outputs": [
    {
     "data": {
      "text/plain": [
       "[]"
      ]
     },
     "execution_count": 24,
     "metadata": {},
     "output_type": "execute_result"
    },
    {
     "data": {
      "image/png": "[encoded data removed]",
      "text/plain": [
       "<Figure size 432x288 with 2 Axes>"
      ]
     },
     "metadata": {
      "needs_background": "light"
     },
     "output_type": "display_data"
    }
   ],
   "source": [
    "ax = mun_sc.plot(color='grey')\n",
    "\n",
    "ax.set_ylim([ gdf_litologia['utm_ns'].min(), gdf_litologia['utm_ns'].max() ])\n",
    "ax.set_xlim([ gdf_litologia['utm_lo'].min(), gdf_litologia['utm_lo'].max() ])\n",
    "\n",
    "gdf_litologia.plot(ax=ax, markersize=15, column='cota_do_terreno', legend=True)\n",
    "\n",
    "plt.plot()"
   ]
  },
  {
   "cell_type": "markdown",
   "metadata": {},
   "source": [
    "Vamos selecionar todos os pontos pertencentes somente a Chapecó."
   ]
  },
  {
   "cell_type": "code",
   "execution_count": 25,
   "metadata": {},
   "outputs": [],
   "source": [
    "chapeco = mun_sc[ mun_sc['NM_MUNICIP'] == 'CHAPECÓ' ]\n",
    "gdf_lit_chap = gp.clip( gdf_litologia.set_crs('EPSG:31982'), chapeco )"
   ]
  },
  {
   "cell_type": "code",
   "execution_count": 26,
   "metadata": {},
   "outputs": [
    {
     "data": {
      "text/plain": [
       "[]"
      ]
     },
     "execution_count": 26,
     "metadata": {},
     "output_type": "execute_result"
    },
    {
     "data": {
      "image/png": "[encoded data removed]",
      "text/plain": [
       "<Figure size 432x288 with 1 Axes>"
      ]
     },
     "metadata": {
      "needs_background": "light"
     },
     "output_type": "display_data"
    }
   ],
   "source": [
    "ax = chapeco.plot()\n",
    "\n",
    "gdf_lit_chap.plot(ax=ax, color='black', markersize=15)\n",
    "\n",
    "plt.plot()"
   ]
  },
  {
   "cell_type": "markdown",
   "metadata": {},
   "source": [
    "Agora uma parte bem legal: vamos criar uma malha triangularizada de cada cadamada que obtivemos a partir dos tipos de litologia!\n",
    "\n",
    "Para conseguirmos triangularizar uma série de pontos, precisamos necessariamente de ao menos três deles. Portanto, temos que verificar o total pontos de cada tipo de litologia."
   ]
  },
  {
   "cell_type": "code",
   "execution_count": 27,
   "metadata": {},
   "outputs": [
    {
     "data": {
      "text/plain": [
       "Basalto                                1125\n",
       "Solo                                    223\n",
       "Solo argiloso                            27\n",
       "Rochas Intemperizadas e Decompostas      17\n",
       "Arenito médio                             4\n",
       "Diabásio                                  4\n",
       "Arenito fino                              2\n",
       "Solo areno-argiloso                       2\n",
       "Cascalho                                  2\n",
       "Arenito siltoso                           1\n",
       "Areia conglomerática argilosa             1\n",
       "Areia média                               1\n",
       "Arenito silicificado                      1\n",
       "Riolito                                   1\n",
       "Carbonatito                               1\n",
       "Argila                                    1\n",
       "Brechas                                   1\n",
       "Name: litologia, dtype: int64"
      ]
     },
     "execution_count": 27,
     "metadata": {},
     "output_type": "execute_result"
    }
   ],
   "source": [
    "valores_litologia = df_litologia['litologia'].value_counts()\n",
    "valores_litologia"
   ]
  },
  {
   "cell_type": "markdown",
   "metadata": {},
   "source": [
    "Para este procedimento, vamos apenas remover entradas que possuam quantidade de dados menor que três."
   ]
  },
  {
   "cell_type": "code",
   "execution_count": 28,
   "metadata": {},
   "outputs": [
    {
     "data": {
      "text/plain": [
       "Basalto                                1125\n",
       "Solo                                    223\n",
       "Solo argiloso                            27\n",
       "Rochas Intemperizadas e Decompostas      17\n",
       "Diabásio                                  4\n",
       "Arenito médio                             4\n",
       "Name: litologia, dtype: int64"
      ]
     },
     "execution_count": 28,
     "metadata": {},
     "output_type": "execute_result"
    }
   ],
   "source": [
    "litologias_a_excluir = valores_litologia[ valores_litologia < 3 ].index\n",
    "\n",
    "for litologia in litologias_a_excluir:\n",
    "    df_litologia = df_litologia[ df_litologia['litologia'] != litologia ]\n",
    "    \n",
    "df_litologia['litologia'].value_counts()"
   ]
  },
  {
   "cell_type": "markdown",
   "metadata": {},
   "source": [
    "Bacana. Nossa próxima tarefa é substituir 'Solo argiloso' por 'Solo' e listar as litologias restantes."
   ]
  },
  {
   "cell_type": "code",
   "execution_count": 29,
   "metadata": {},
   "outputs": [
    {
     "data": {
      "text/plain": [
       "{'Arenito médio',\n",
       " 'Basalto',\n",
       " 'Diabásio',\n",
       " 'Rochas Intemperizadas e Decompostas',\n",
       " 'Solo'}"
      ]
     },
     "execution_count": 29,
     "metadata": {},
     "output_type": "execute_result"
    }
   ],
   "source": [
    "df_litologia.loc[ (df_litologia['litologia'] == 'Solo argiloso'),'litologia'] = 'Solo'\n",
    "\n",
    "tipos_litologias = set( df_litologia['litologia'] )\n",
    "tipos_litologias"
   ]
  },
  {
   "cell_type": "markdown",
   "metadata": {},
   "source": [
    "Vamos agora selecionar e separar cada tipo de litologia, e criar uma coluna de pontos em formato de lista. Colocaremos esses valores em 'x', 'y' e 'z'."
   ]
  },
  {
   "cell_type": "code",
   "execution_count": 30,
   "metadata": {},
   "outputs": [
    {
     "data": {
      "text/html": [
       "<div>\n",
       "<style scoped>\n",
       "    .dataframe tbody tr th:only-of-type {\n",
       "        vertical-align: middle;\n",
       "    }\n",
       "\n",
       "    .dataframe tbody tr th {\n",
       "        vertical-align: top;\n",
       "    }\n",
       "\n",
       "    .dataframe thead th {\n",
       "        text-align: right;\n",
       "    }\n",
       "</style>\n",
       "<table border=\"1\" class=\"dataframe\">\n",
       "  <thead>\n",
       "    <tr style=\"text-align: right;\">\n",
       "      <th></th>\n",
       "      <th>nome</th>\n",
       "      <th>de</th>\n",
       "      <th>ate</th>\n",
       "      <th>litologia</th>\n",
       "      <th>utm_ns</th>\n",
       "      <th>utm_lo</th>\n",
       "      <th>cota_do_terreno</th>\n",
       "      <th>coordenadas</th>\n",
       "      <th>x</th>\n",
       "      <th>y</th>\n",
       "      <th>z</th>\n",
       "    </tr>\n",
       "  </thead>\n",
       "  <tbody>\n",
       "    <tr>\n",
       "      <th>1761</th>\n",
       "      <td>SN_nan_4300015619</td>\n",
       "      <td>0.0</td>\n",
       "      <td>186.0</td>\n",
       "      <td>Basalto</td>\n",
       "      <td>7010189.0</td>\n",
       "      <td>344574.0</td>\n",
       "      <td>504.0</td>\n",
       "      <td>POINT Z (344574.000 7010189.000 504.000)</td>\n",
       "      <td>344574.0</td>\n",
       "      <td>7010189.0</td>\n",
       "      <td>504.0</td>\n",
       "    </tr>\n",
       "    <tr>\n",
       "      <th>746</th>\n",
       "      <td>SN_nan_4300004878</td>\n",
       "      <td>0.0</td>\n",
       "      <td>128.0</td>\n",
       "      <td>Basalto</td>\n",
       "      <td>7019845.0</td>\n",
       "      <td>305660.0</td>\n",
       "      <td>335.0</td>\n",
       "      <td>POINT Z (305660.000 7019845.000 335.000)</td>\n",
       "      <td>305660.0</td>\n",
       "      <td>7019845.0</td>\n",
       "      <td>335.0</td>\n",
       "    </tr>\n",
       "    <tr>\n",
       "      <th>1585</th>\n",
       "      <td>SN_nan_4300012884</td>\n",
       "      <td>1.0</td>\n",
       "      <td>102.0</td>\n",
       "      <td>Basalto</td>\n",
       "      <td>7019808.0</td>\n",
       "      <td>308525.0</td>\n",
       "      <td>325.0</td>\n",
       "      <td>POINT Z (308525.000 7019808.000 324.000)</td>\n",
       "      <td>308525.0</td>\n",
       "      <td>7019808.0</td>\n",
       "      <td>324.0</td>\n",
       "    </tr>\n",
       "    <tr>\n",
       "      <th>1584</th>\n",
       "      <td>SN_nan_4300012884</td>\n",
       "      <td>0.0</td>\n",
       "      <td>1.0</td>\n",
       "      <td>Solo</td>\n",
       "      <td>7019808.0</td>\n",
       "      <td>308525.0</td>\n",
       "      <td>325.0</td>\n",
       "      <td>POINT Z (308525.000 7019808.000 325.000)</td>\n",
       "      <td>308525.0</td>\n",
       "      <td>7019808.0</td>\n",
       "      <td>325.0</td>\n",
       "    </tr>\n",
       "    <tr>\n",
       "      <th>138</th>\n",
       "      <td>SN_NORTE GAS BUTANO DISTR. LTDA_4300003933</td>\n",
       "      <td>0.0</td>\n",
       "      <td>100.0</td>\n",
       "      <td>Basalto</td>\n",
       "      <td>7007965.0</td>\n",
       "      <td>369693.0</td>\n",
       "      <td>589.0</td>\n",
       "      <td>POINT Z (369693.000 7007965.000 589.000)</td>\n",
       "      <td>369693.0</td>\n",
       "      <td>7007965.0</td>\n",
       "      <td>589.0</td>\n",
       "    </tr>\n",
       "  </tbody>\n",
       "</table>\n",
       "</div>"
      ],
      "text/plain": [
       "                                            nome   de    ate litologia  \\\n",
       "1761                           SN_nan_4300015619  0.0  186.0   Basalto   \n",
       "746                            SN_nan_4300004878  0.0  128.0   Basalto   \n",
       "1585                           SN_nan_4300012884  1.0  102.0   Basalto   \n",
       "1584                           SN_nan_4300012884  0.0    1.0      Solo   \n",
       "138   SN_NORTE GAS BUTANO DISTR. LTDA_4300003933  0.0  100.0   Basalto   \n",
       "\n",
       "         utm_ns    utm_lo  cota_do_terreno  \\\n",
       "1761  7010189.0  344574.0            504.0   \n",
       "746   7019845.0  305660.0            335.0   \n",
       "1585  7019808.0  308525.0            325.0   \n",
       "1584  7019808.0  308525.0            325.0   \n",
       "138   7007965.0  369693.0            589.0   \n",
       "\n",
       "                                   coordenadas         x          y      z  \n",
       "1761  POINT Z (344574.000 7010189.000 504.000)  344574.0  7010189.0  504.0  \n",
       "746   POINT Z (305660.000 7019845.000 335.000)  305660.0  7019845.0  335.0  \n",
       "1585  POINT Z (308525.000 7019808.000 324.000)  308525.0  7019808.0  324.0  \n",
       "1584  POINT Z (308525.000 7019808.000 325.000)  308525.0  7019808.0  325.0  \n",
       "138   POINT Z (369693.000 7007965.000 589.000)  369693.0  7007965.0  589.0  "
      ]
     },
     "execution_count": 30,
     "metadata": {},
     "output_type": "execute_result"
    }
   ],
   "source": [
    "df_litologia['x'] = df_litologia['coordenadas'].apply( lambda x : x.coords[0][0] )\n",
    "df_litologia['y'] = df_litologia['coordenadas'].apply( lambda x : x.coords[0][1] )\n",
    "df_litologia['z'] = df_litologia['coordenadas'].apply( lambda x : x.coords[0][2] )\n",
    "\n",
    "df_litologia.head()"
   ]
  },
  {
   "cell_type": "markdown",
   "metadata": {},
   "source": [
    "Agora vamos separar cada tipo de litologia e armezenar as coordenadas com tipo vetor numpy em um dicionário chamado litologias."
   ]
  },
  {
   "cell_type": "code",
   "execution_count": 31,
   "metadata": {},
   "outputs": [],
   "source": [
    "litologias = {}\n",
    "\n",
    "for tipo in tipos_litologias:\n",
    "    litologias[ tipo ] = df_litologia[ df_litologia['litologia'] == tipo ][['x','y','z']].to_numpy()"
   ]
  },
  {
   "cell_type": "markdown",
   "metadata": {},
   "source": [
    "Finalmente, vamos criar e exibir nossa malha utilizando o PyVista:"
   ]
  },
  {
   "cell_type": "code",
   "execution_count": 32,
   "metadata": {},
   "outputs": [
    {
     "data": {
      "application/vnd.jupyter.widget-view+json": {
       "model_id": "d3a9edf91faf4d948ef318aaeccbfdac",
       "version_major": 2,
       "version_minor": 0
      },
      "text/plain": [
       "Viewer(geometries=[{'vtkClass': 'vtkPolyData', 'points': {'vtkClass': 'vtkPoints', 'name': '_points', 'numberO…"
      ]
     },
     "metadata": {},
     "output_type": "display_data"
    }
   ],
   "source": [
    "#plotter = pv.PlotterITK(notebook=True)\n",
    "geometrias = {}\n",
    "for tipo in tipos_litologias:\n",
    "    nuvem = pv.PolyData( litologias[tipo] )\n",
    "    superf = nuvem.delaunay_2d()\n",
    "    geometrias[tipo] = superf\n",
    "    #plotter.add_mesh(superf, color=None )\n",
    "\n",
    "#plotter.show()\n",
    "view(geometries=geometrias)"
   ]
  },
  {
   "cell_type": "code",
   "execution_count": null,
   "metadata": {},
   "outputs": [],
   "source": []
  }
 ],
 "metadata": {
  "kernelspec": {
   "display_name": "Python 3 (ipykernel)",
   "language": "python",
   "name": "python3"
  },
  "language_info": {
   "codemirror_mode": {
    "name": "ipython",
    "version": 3
   },
   "file_extension": ".py",
   "mimetype": "text/x-python",
   "name": "python",
   "nbconvert_exporter": "python",
   "pygments_lexer": "ipython3",
   "version": "3.10.12"
  }
 },
 "nbformat": 4,
 "nbformat_minor": 4
}
